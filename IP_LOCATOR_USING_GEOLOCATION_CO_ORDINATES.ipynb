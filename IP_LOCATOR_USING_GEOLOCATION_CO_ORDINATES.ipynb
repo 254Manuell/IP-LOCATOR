{
  "nbformat": 4,
  "nbformat_minor": 0,
  "metadata": {
    "colab": {
      "provenance": []
    },
    "kernelspec": {
      "name": "python3",
      "display_name": "Python 3"
    },
    "language_info": {
      "name": "python"
    }
  },
  "cells": [
    {
      "cell_type": "code",
      "source": [
        "!pip install socket"
      ],
      "metadata": {
        "colab": {
          "base_uri": "https://localhost:8080/"
        },
        "id": "cbwtqNy9Bfxt",
        "outputId": "05b10d46-50cc-4fe0-92f5-9222cff3c0fd"
      },
      "execution_count": 1,
      "outputs": [
        {
          "output_type": "stream",
          "name": "stdout",
          "text": [
            "\u001b[31mERROR: Could not find a version that satisfies the requirement socket (from versions: none)\u001b[0m\u001b[31m\n",
            "\u001b[0m\u001b[31mERROR: No matching distribution found for socket\u001b[0m\u001b[31m\n",
            "\u001b[0m"
          ]
        }
      ]
    },
    {
      "cell_type": "code",
      "source": [
        "!pip install geopy"
      ],
      "metadata": {
        "colab": {
          "base_uri": "https://localhost:8080/"
        },
        "id": "vpmN-Au4G-24",
        "outputId": "406ab4d0-1646-4575-b08f-5bbfea400873"
      },
      "execution_count": 2,
      "outputs": [
        {
          "output_type": "stream",
          "name": "stdout",
          "text": [
            "Requirement already satisfied: geopy in /usr/local/lib/python3.10/dist-packages (2.4.1)\n",
            "Requirement already satisfied: geographiclib<3,>=1.52 in /usr/local/lib/python3.10/dist-packages (from geopy) (2.0)\n"
          ]
        }
      ]
    },
    {
      "cell_type": "code",
      "source": [
        "!pip install folium\n"
      ],
      "metadata": {
        "colab": {
          "base_uri": "https://localhost:8080/"
        },
        "id": "c7j4NHAoHU5V",
        "outputId": "9a045ad2-113f-454a-fde1-933834692583"
      },
      "execution_count": 3,
      "outputs": [
        {
          "output_type": "stream",
          "name": "stdout",
          "text": [
            "Requirement already satisfied: folium in /usr/local/lib/python3.10/dist-packages (0.19.2)\n",
            "Requirement already satisfied: branca>=0.6.0 in /usr/local/lib/python3.10/dist-packages (from folium) (0.8.1)\n",
            "Requirement already satisfied: jinja2>=2.9 in /usr/local/lib/python3.10/dist-packages (from folium) (3.1.4)\n",
            "Requirement already satisfied: numpy in /usr/local/lib/python3.10/dist-packages (from folium) (1.26.4)\n",
            "Requirement already satisfied: requests in /usr/local/lib/python3.10/dist-packages (from folium) (2.32.3)\n",
            "Requirement already satisfied: xyzservices in /usr/local/lib/python3.10/dist-packages (from folium) (2024.9.0)\n",
            "Requirement already satisfied: MarkupSafe>=2.0 in /usr/local/lib/python3.10/dist-packages (from jinja2>=2.9->folium) (3.0.2)\n",
            "Requirement already satisfied: charset-normalizer<4,>=2 in /usr/local/lib/python3.10/dist-packages (from requests->folium) (3.4.0)\n",
            "Requirement already satisfied: idna<4,>=2.5 in /usr/local/lib/python3.10/dist-packages (from requests->folium) (3.10)\n",
            "Requirement already satisfied: urllib3<3,>=1.21.1 in /usr/local/lib/python3.10/dist-packages (from requests->folium) (2.2.3)\n",
            "Requirement already satisfied: certifi>=2017.4.17 in /usr/local/lib/python3.10/dist-packages (from requests->folium) (2024.12.14)\n"
          ]
        }
      ]
    },
    {
      "cell_type": "code",
      "source": [
        "!pip install pyproj"
      ],
      "metadata": {
        "colab": {
          "base_uri": "https://localhost:8080/"
        },
        "id": "1-MKWDtBHcTQ",
        "outputId": "cb33bbd2-c116-47c6-d480-2670bb79a968"
      },
      "execution_count": 4,
      "outputs": [
        {
          "output_type": "stream",
          "name": "stdout",
          "text": [
            "Requirement already satisfied: pyproj in /usr/local/lib/python3.10/dist-packages (3.7.0)\n",
            "Requirement already satisfied: certifi in /usr/local/lib/python3.10/dist-packages (from pyproj) (2024.12.14)\n"
          ]
        }
      ]
    },
    {
      "cell_type": "code",
      "source": [
        "!pip install seaborn"
      ],
      "metadata": {
        "colab": {
          "base_uri": "https://localhost:8080/"
        },
        "id": "5eQZcLbbHirw",
        "outputId": "e97bfc5f-753a-48a7-b5ac-363147d093bb"
      },
      "execution_count": 5,
      "outputs": [
        {
          "output_type": "stream",
          "name": "stdout",
          "text": [
            "Requirement already satisfied: seaborn in /usr/local/lib/python3.10/dist-packages (0.13.2)\n",
            "Requirement already satisfied: numpy!=1.24.0,>=1.20 in /usr/local/lib/python3.10/dist-packages (from seaborn) (1.26.4)\n",
            "Requirement already satisfied: pandas>=1.2 in /usr/local/lib/python3.10/dist-packages (from seaborn) (2.2.2)\n",
            "Requirement already satisfied: matplotlib!=3.6.1,>=3.4 in /usr/local/lib/python3.10/dist-packages (from seaborn) (3.8.0)\n",
            "Requirement already satisfied: contourpy>=1.0.1 in /usr/local/lib/python3.10/dist-packages (from matplotlib!=3.6.1,>=3.4->seaborn) (1.3.1)\n",
            "Requirement already satisfied: cycler>=0.10 in /usr/local/lib/python3.10/dist-packages (from matplotlib!=3.6.1,>=3.4->seaborn) (0.12.1)\n",
            "Requirement already satisfied: fonttools>=4.22.0 in /usr/local/lib/python3.10/dist-packages (from matplotlib!=3.6.1,>=3.4->seaborn) (4.55.3)\n",
            "Requirement already satisfied: kiwisolver>=1.0.1 in /usr/local/lib/python3.10/dist-packages (from matplotlib!=3.6.1,>=3.4->seaborn) (1.4.7)\n",
            "Requirement already satisfied: packaging>=20.0 in /usr/local/lib/python3.10/dist-packages (from matplotlib!=3.6.1,>=3.4->seaborn) (24.2)\n",
            "Requirement already satisfied: pillow>=6.2.0 in /usr/local/lib/python3.10/dist-packages (from matplotlib!=3.6.1,>=3.4->seaborn) (11.0.0)\n",
            "Requirement already satisfied: pyparsing>=2.3.1 in /usr/local/lib/python3.10/dist-packages (from matplotlib!=3.6.1,>=3.4->seaborn) (3.2.0)\n",
            "Requirement already satisfied: python-dateutil>=2.7 in /usr/local/lib/python3.10/dist-packages (from matplotlib!=3.6.1,>=3.4->seaborn) (2.8.2)\n",
            "Requirement already satisfied: pytz>=2020.1 in /usr/local/lib/python3.10/dist-packages (from pandas>=1.2->seaborn) (2024.2)\n",
            "Requirement already satisfied: tzdata>=2022.7 in /usr/local/lib/python3.10/dist-packages (from pandas>=1.2->seaborn) (2024.2)\n",
            "Requirement already satisfied: six>=1.5 in /usr/local/lib/python3.10/dist-packages (from python-dateutil>=2.7->matplotlib!=3.6.1,>=3.4->seaborn) (1.17.0)\n"
          ]
        }
      ]
    },
    {
      "cell_type": "code",
      "source": [
        "!pip install matplotlib"
      ],
      "metadata": {
        "colab": {
          "base_uri": "https://localhost:8080/"
        },
        "id": "sYf909f4HnzO",
        "outputId": "d3bb6d40-861e-453d-dd41-17e40d35fe78"
      },
      "execution_count": 6,
      "outputs": [
        {
          "output_type": "stream",
          "name": "stdout",
          "text": [
            "Requirement already satisfied: matplotlib in /usr/local/lib/python3.10/dist-packages (3.8.0)\n",
            "Requirement already satisfied: contourpy>=1.0.1 in /usr/local/lib/python3.10/dist-packages (from matplotlib) (1.3.1)\n",
            "Requirement already satisfied: cycler>=0.10 in /usr/local/lib/python3.10/dist-packages (from matplotlib) (0.12.1)\n",
            "Requirement already satisfied: fonttools>=4.22.0 in /usr/local/lib/python3.10/dist-packages (from matplotlib) (4.55.3)\n",
            "Requirement already satisfied: kiwisolver>=1.0.1 in /usr/local/lib/python3.10/dist-packages (from matplotlib) (1.4.7)\n",
            "Requirement already satisfied: numpy<2,>=1.21 in /usr/local/lib/python3.10/dist-packages (from matplotlib) (1.26.4)\n",
            "Requirement already satisfied: packaging>=20.0 in /usr/local/lib/python3.10/dist-packages (from matplotlib) (24.2)\n",
            "Requirement already satisfied: pillow>=6.2.0 in /usr/local/lib/python3.10/dist-packages (from matplotlib) (11.0.0)\n",
            "Requirement already satisfied: pyparsing>=2.3.1 in /usr/local/lib/python3.10/dist-packages (from matplotlib) (3.2.0)\n",
            "Requirement already satisfied: python-dateutil>=2.7 in /usr/local/lib/python3.10/dist-packages (from matplotlib) (2.8.2)\n",
            "Requirement already satisfied: six>=1.5 in /usr/local/lib/python3.10/dist-packages (from python-dateutil>=2.7->matplotlib) (1.17.0)\n"
          ]
        }
      ]
    },
    {
      "cell_type": "code",
      "source": [
        "import socket\n",
        "import geopy\n",
        "import folium\n",
        "import pyproj\n",
        "import seaborn as sns\n",
        "import matplotlib.pyplot as plt\n",
        "import ipaddress\n",
        "import subprocess\n",
        "import concurrent.futures\n",
        "from datetime import datetime\n",
        "import platform"
      ],
      "metadata": {
        "id": "HXbaMLzgHq__"
      },
      "execution_count": 7,
      "outputs": []
    },
    {
      "cell_type": "code",
      "source": [
        "def get_local_ip():\n",
        "    import socket\n",
        "    s=socket.socket(socket.AF_INET,socket.SOCK_DGRAM)\n",
        "    s.connect((\"8.8.8.8\",80))\n",
        "    local_ip=s.getsockname()[0]\n",
        "    s.close()\n",
        "    return local_ip\n",
        "\n",
        "\n"
      ],
      "metadata": {
        "id": "iEHxeghgH-EZ"
      },
      "execution_count": 8,
      "outputs": []
    },
    {
      "cell_type": "code",
      "source": [
        "from ast import Param\n",
        "def ping_ip(ip):\n",
        "    \"\"\"Ping an IP address to check if it's active\"\"\"\n",
        "    param = '-n' if platform.system().lower() == 'windows' else '-c'\n",
        "    command = ['ping', param, '1', str(ip)]\n",
        "    try:\n",
        "        output = subprocess.check_output(command, stderr=subprocess.STDOUT, universal_newlines=True)\n",
        "        return ip if '1 received' in output or 'bytes from' in output else None\n",
        "    except subprocess.CalledProcessError:\n",
        "        return None\n",
        "\n",
        ""
      ],
      "metadata": {
        "id": "BSyO2t06IuyB"
      },
      "execution_count": 9,
      "outputs": []
    },
    {
      "cell_type": "code",
      "source": [
        "def scan_local_network():\n",
        "    # Get local IP\n",
        "    local_ip = get_local_ip()\n",
        "    if not local_ip:\n",
        "        print(\"Could not determine local IP address\")\n",
        "        return []\n",
        "\n",
        "    # Create network address\n",
        "    ip_parts = local_ip.split('.')\n",
        "    network = f\"{ip_parts[0]}.{ip_parts[1]}.{ip_parts[2]}.0/24\"\n",
        "\n",
        "    print(f\"Local IP: {local_ip}\")\n",
        "    print(f\"Scanning network: {network}\")\n",
        "    print(\"This may take a few minutes...\\n\")\n",
        "\n",
        "    start_time = datetime.now()\n",
        "    active_ips = []\n",
        "\n",
        "    try:\n",
        "        # Use ThreadPoolExecutor for parallel scanning\n",
        "        with concurrent.futures.ThreadPoolExecutor(max_workers=50) as executor:\n",
        "            # Create list of all possible IPs in the network\n",
        "            ip_list = list(ipaddress.IPv4Network(network).hosts())\n",
        "            # Create futures for each IP\n",
        "            future_to_ip = {executor.submit(ping_ip, ip): ip for ip in ip_list}\n",
        "\n",
        "            # Process completed futures\n",
        "            for future in concurrent.futures.as_completed(future_to_ip):\n",
        "                result = future.result()\n",
        "                if result:\n",
        "                    active_ips.append(str(result))\n",
        "\n",
        "        scan_duration = datetime.now() - start_time\n",
        "        print(f\"\\nScan completed in {scan_duration.total_seconds():.2f} seconds\")\n",
        "        print(f\"Found {len(active_ips)} active IPs\")\n",
        "\n",
        "    except Exception as e:\n",
        "        print(f\"Error during scan: {e}\")\n",
        "\n",
        "    return active_ips\n",
        "\n",
        "# Usage:\n",
        "if __name__ == \"__main__\":\n",
        "    active_ips = scan_local_network()\n",
        "    # Print results\n",
        "    for ip in sorted(active_ips):\n",
        "        try:\n",
        "            hostname = socket.gethostbyaddr(ip)[0]\n",
        "            print(f\"IP: {ip:<15} Hostname: {hostname}\")\n",
        "        except socket.herror:\n",
        "            print(f\"IP: {ip:<15} Hostname: Unknown\")"
      ],
      "metadata": {
        "colab": {
          "base_uri": "https://localhost:8080/"
        },
        "id": "Aq44kXF2O81E",
        "outputId": "d03fc6a6-7913-4c60-98e9-ca1e36111cb4"
      },
      "execution_count": 10,
      "outputs": [
        {
          "output_type": "stream",
          "name": "stdout",
          "text": [
            "Local IP: 172.28.0.12\n",
            "Scanning network: 172.28.0.0/24\n",
            "This may take a few minutes...\n",
            "\n",
            "Error during scan: [Errno 2] No such file or directory: 'ping'\n"
          ]
        }
      ]
    },
    {
      "cell_type": "code",
      "source": [
        "def location_coordinates():\n",
        "    for ip in sorted(active_ips):\n",
        "        latitude = 33.0975\n",
        "        longitude = -97.3080\n",
        "        print(f\"IP: {ip:<15} Latitude: {latitude:<10} Longitude: {longitude}\")\n",
        "\n",
        "# Usage:\n",
        "if __name__ == \"__main__\":\n",
        "    active_ips = scan_local_network()\n",
        "    # Print results with hostnames\n",
        "    for ip in sorted(active_ips):\n",
        "        try:\n",
        "            hostname = socket.gethostbyaddr(ip)[0]\n",
        "            print(f\"IP: {ip:<15} Hostname: {hostname}\")\n",
        "        except socket.herror:\n",
        "            print(f\"IP: {ip:<15} Hostname: Unknown\")\n",
        "\n",
        "    # Call location_coordinates() after the scan\n",
        "    location_coordinates()"
      ],
      "metadata": {
        "colab": {
          "base_uri": "https://localhost:8080/"
        },
        "id": "FxJcbEA-U2Vn",
        "outputId": "f6462b9a-4c3e-4685-b4af-2ac0cd24e8c7"
      },
      "execution_count": 20,
      "outputs": [
        {
          "output_type": "stream",
          "name": "stdout",
          "text": [
            "Local IP: 172.28.0.12\n",
            "Scanning network: 172.28.0.0/24\n",
            "This may take a few minutes...\n",
            "\n",
            "Error during scan: [Errno 2] No such file or directory: 'ping'\n"
          ]
        }
      ]
    },
    {
      "cell_type": "markdown",
      "source": [
        "-Getting the IP address for a specific location is not possible, mabe with paid third party access it could be\n"
      ],
      "metadata": {
        "id": "lDSCiiZyVRsh"
      }
    },
    {
      "cell_type": "markdown",
      "source": [
        "RESULT; Ones' private ip address is displayed indicating controlled packet access"
      ],
      "metadata": {
        "id": "KsKOlu90V6gA"
      }
    },
    {
      "cell_type": "markdown",
      "source": [
        "TRIAL; Ping exact location coordinates in wireshark/network monitoring tools and monitor packets based in enhanced third party access"
      ],
      "metadata": {
        "id": "sIis6K2SVebK"
      }
    }
  ]
}